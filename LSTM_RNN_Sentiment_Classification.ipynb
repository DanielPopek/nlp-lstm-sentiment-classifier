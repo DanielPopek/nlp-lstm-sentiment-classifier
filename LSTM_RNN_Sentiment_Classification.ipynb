{
 "cells": [
  {
   "cell_type": "code",
   "execution_count": 51,
   "metadata": {},
   "outputs": [
    {
     "name": "stdout",
     "output_type": "stream",
     "text": [
      "Session close and recreate\n"
     ]
    }
   ],
   "source": [
    "from tensorflow.compat.v1 import ConfigProto, GPUOptions, InteractiveSession\n",
    "\n",
    "if 'session' in globals():\n",
    "    print('Session close and recreate')\n",
    "    session.close()\n",
    "\n",
    "config = ConfigProto()\n",
    "config.gpu_options.allow_growth = True\n",
    "session = InteractiveSession(config=config)"
   ]
  },
  {
   "cell_type": "code",
   "execution_count": 52,
   "metadata": {},
   "outputs": [],
   "source": [
    "from __future__ import absolute_import, division, print_function, unicode_literals\n",
    "\n",
    "import tensorflow as tf\n",
    "from tqdm import tqdm_notebook as tqdm\n",
    "import tensorflow.keras.backend as K\n",
    "import numpy as np\n",
    "import matplotlib.pyplot as plt\n",
    "import seaborn as sns\n",
    "import pandas as pd\n",
    "import matplotlib.pyplot as plt\n",
    "import seaborn as sns\n",
    "from sklearn.metrics import confusion_matrix"
   ]
  },
  {
   "cell_type": "code",
   "execution_count": 53,
   "metadata": {},
   "outputs": [],
   "source": [
    "(x_tr, y_train), (x_ts, y_test)=tf.keras.datasets.imdb.load_data(num_words=2000)"
   ]
  },
  {
   "cell_type": "code",
   "execution_count": 54,
   "metadata": {},
   "outputs": [],
   "source": [
    "def filter_datasets(xs,ys,length):\n",
    "    xs_res=[]\n",
    "    ys_res=[]\n",
    "    iter_range=xs.shape[0]\n",
    "    for i in range (iter_range):\n",
    "        if len(xs[i]) >=length:\n",
    "            xs_res.append(xs[i])\n",
    "            ys_res.append(ys[i])\n",
    "    return np.asarray(xs_res),np.asarray(ys_res)"
   ]
  },
  {
   "cell_type": "code",
   "execution_count": 55,
   "metadata": {},
   "outputs": [],
   "source": [
    "x_tr, y_train=filter_datasets(x_tr, y_train,100)\n",
    "x_ts, y_test=filter_datasets(x_ts, y_test,100)"
   ]
  },
  {
   "cell_type": "code",
   "execution_count": 56,
   "metadata": {},
   "outputs": [],
   "source": [
    "x_train=tf.keras.preprocessing.sequence.pad_sequences(x_tr,maxlen=100,truncating='post',padding='post')\n",
    "x_test=tf.keras.preprocessing.sequence.pad_sequences(x_ts,maxlen=100,truncating='post',padding='post')"
   ]
  },
  {
   "cell_type": "code",
   "execution_count": 57,
   "metadata": {},
   "outputs": [
    {
     "data": {
      "text/plain": [
       "(22037, 100)"
      ]
     },
     "execution_count": 57,
     "metadata": {},
     "output_type": "execute_result"
    }
   ],
   "source": [
    "x_test.shape"
   ]
  },
  {
   "cell_type": "code",
   "execution_count": 58,
   "metadata": {},
   "outputs": [],
   "source": [
    "x_train=x_train[0:22200]\n",
    "y_train=y_train[0:22200]\n",
    "x_test=x_test[0:22000]\n",
    "y_test=y_test[0:22000]"
   ]
  },
  {
   "cell_type": "code",
   "execution_count": 59,
   "metadata": {},
   "outputs": [],
   "source": [
    "words_dictionary=tf.keras.datasets.imdb.get_word_index()\n",
    "reversed_dictionary = dict(zip(words_dictionary.values(),words_dictionary.keys()))"
   ]
  },
  {
   "cell_type": "code",
   "execution_count": 60,
   "metadata": {},
   "outputs": [],
   "source": [
    "vocabulary_size=len(words_dictionary)"
   ]
  },
  {
   "cell_type": "code",
   "execution_count": 61,
   "metadata": {},
   "outputs": [
    {
     "data": {
      "text/plain": [
       "88584"
      ]
     },
     "execution_count": 61,
     "metadata": {},
     "output_type": "execute_result"
    }
   ],
   "source": [
    "vocabulary_size"
   ]
  },
  {
   "cell_type": "code",
   "execution_count": 62,
   "metadata": {},
   "outputs": [],
   "source": [
    "embeddings_index = dict()\n",
    "f = open('glove.6B.300d.txt')\n",
    "for line in f:\n",
    "    values = line.split()\n",
    "    word = values[0]\n",
    "    coefs = np.asarray(values[1:], dtype='float32')\n",
    "    embeddings_index[word] = coefs\n",
    "f.close()"
   ]
  },
  {
   "cell_type": "code",
   "execution_count": 64,
   "metadata": {},
   "outputs": [],
   "source": [
    "embedding_matrix = np.zeros((vocabulary_size, 300))\n",
    "for index in range(vocabulary_size):\n",
    "    embedding_vector = embeddings_index.get(reversed_dictionary[index+1])\n",
    "    if embedding_vector is not None:\n",
    "        embedding_matrix[index] = embedding_vector"
   ]
  },
  {
   "cell_type": "code",
   "execution_count": 65,
   "metadata": {},
   "outputs": [
    {
     "data": {
      "text/plain": [
       "(300,)"
      ]
     },
     "execution_count": 65,
     "metadata": {},
     "output_type": "execute_result"
    }
   ],
   "source": [
    "embedding_matrix[0].shape"
   ]
  },
  {
   "cell_type": "code",
   "execution_count": 66,
   "metadata": {},
   "outputs": [],
   "source": [
    "class RNNCell(tf.keras.layers.Layer):\n",
    "    \"\"\"Simple RNN cell\n",
    "    \"\"\"\n",
    "    def __init__(self,input_size,output_size):\n",
    "        \"\"\"Inits the class.\"\"\"\n",
    "        super(RNNCell, self).__init__()\n",
    "        self.w = self.add_weight(shape=(input_size+output_size,output_size),\n",
    "                             initializer='random_uniform',\n",
    "                             trainable=True)\n",
    "        self.b = self.add_weight(shape=(1,output_size),\n",
    "                             initializer='random_uniform',\n",
    "                             trainable=True)\n",
    "        self.activation_function=tf.keras.backend.tanh\n",
    "        \n",
    "    #przyjmuje : wyjścia z kroku poprzedniego: batchxoutput, nowe wejścia [batchxembedding]\n",
    "    #returns batchxoutput\n",
    "    def call(self, outputs,inputs):\n",
    "        \"\"\"Makes forward pass of the layer\"\"\"\n",
    "        concat=K.concatenate((tf.dtypes.cast(outputs, tf.float32),tf.dtypes.cast(inputs, tf.float32)), axis=-1)\n",
    "        output=self.activation_function(tf.matmul(concat, self.w) + self.b)      \n",
    "        return output\n",
    "    \n",
    "    "
   ]
  },
  {
   "cell_type": "code",
   "execution_count": 67,
   "metadata": {},
   "outputs": [],
   "source": [
    "class RNNModel(tf.keras.Model):\n",
    "    \"\"\"\n",
    "    \"\"\"\n",
    "    def __init__(self,batch_size=100,output_size=32,custom_embedding_layer=False):\n",
    "        super(RNNModel, self).__init__()\n",
    "        if custom_embedding_layer:\n",
    "            self.embedding_layer=tf.keras.layers.Embedding(88584,300,input_length=100, weights=[embedding_matrix], trainable=False)\n",
    "        else:\n",
    "            self.embedding_layer=tf.keras.layers.Embedding(88584,300,input_length=100,embeddings_initializer='uniform') \n",
    "        self.cell=RNNCell(300,output_size)\n",
    "        self.dense_layer=tf.keras.layers.Dense(2, activation='softmax')\n",
    "\n",
    "        self.batch_size=batch_size\n",
    "        self.output_size=output_size\n",
    "        \n",
    "        self.train_learning_accuracy=[]\n",
    "        self.test_learning_accuracy=[]\n",
    "        self.train_learning_losses=[]\n",
    "        self.test_learning_losses=[]\n",
    "\n",
    "    \n",
    "    def call(self, inputs, training=False):\n",
    "        inputs=self.embedding_layer(inputs)\n",
    "        inputs=tf.transpose(inputs,perm=[1, 0, 2])\n",
    "        outputs=tf.zeros((self.batch_size,self.output_size))\n",
    "        for timestep_inputs in inputs:\n",
    "            outputs=self.cell(outputs,timestep_inputs)\n",
    "        return self.dense_layer(outputs)\n",
    "    \n",
    "    @tf.function\n",
    "    def train_step(self,sequences, labels,loss_function,optimizer, train_loss_metric,train_accuracy):\n",
    "        with tf.GradientTape() as tape:\n",
    "            predictions = self(sequences)\n",
    "            loss = loss_function(labels, predictions)\n",
    "        gradients = tape.gradient(loss, self.trainable_variables)\n",
    "        optimizer.apply_gradients(zip(gradients, self.trainable_variables))\n",
    "        train_loss_metric(loss)\n",
    "        train_accuracy(labels, predictions)\n",
    "        \n",
    "    @tf.function\n",
    "    def test_step(self,images, labels,loss_function,test_loss_metric,test_accuracy):\n",
    "        predictions = self(images)\n",
    "        t_loss = loss_function(labels, predictions)\n",
    "        test_loss_metric(t_loss)\n",
    "        test_accuracy(labels, predictions)\n",
    "\n",
    "    def fit(self,train_xs,train_ys,test_xs,test_ys,loss_function=tf.keras.losses.SparseCategoricalCrossentropy,\n",
    "            epochs=10,optimizer=tf.keras.optimizers.Adam(learning_rate=0.001)):\n",
    "        \n",
    "        train_ds = tf.data.Dataset.from_tensor_slices((train_xs,train_ys)).shuffle(5000).batch(self.batch_size)\n",
    "        \n",
    "        test_ds = tf.data.Dataset.from_tensor_slices((test_xs, test_ys)).batch(self.batch_size)\n",
    "        \n",
    "        loss_function=loss_function()\n",
    "        \n",
    "        self.train_learning_accuracy=[]\n",
    "        self.test_learning_accuracy=[]\n",
    "        self.train_learning_losses=[]\n",
    "        self.test_learning_losses=[]\n",
    "\n",
    "        train_loss_metric = tf.keras.metrics.Mean(name='train_loss_metric')\n",
    "        train_accuracy = tf.keras.metrics.SparseCategoricalAccuracy(name='train_accuracy')\n",
    "\n",
    "        test_loss_metric = tf.keras.metrics.Mean(name='test_loss_metric')\n",
    "        test_accuracy = tf.keras.metrics.SparseCategoricalAccuracy(name='test_accuracy')\n",
    "        \n",
    "        for epoch in tqdm(range(epochs)):\n",
    "            for batch_seq,batch_labels in train_ds:\n",
    "                self.train_step(batch_seq, batch_labels,loss_function,optimizer,train_loss_metric,train_accuracy)\n",
    "\n",
    "            for test_images, test_labels in test_ds:\n",
    "                self.test_step(test_images, test_labels,loss_function,test_loss_metric,test_accuracy)\n",
    "\n",
    "            template = 'Epoch {}, Loss: {}, Accuracy: {}, Test Loss: {}, Test Accuracy: {}'\n",
    "            print(template.format(epoch+1,\n",
    "                        train_loss_metric.result(),\n",
    "                        train_accuracy.result()*100,\n",
    "                        test_loss_metric.result(),\n",
    "                        test_accuracy.result()*100))\n",
    "            self.train_learning_accuracy.append(train_accuracy.result().numpy()*100)\n",
    "            self.test_learning_accuracy.append(test_accuracy.result().numpy()*100)\n",
    "            self.train_learning_losses.append(train_loss_metric.result().numpy())\n",
    "            self.test_learning_losses.append(test_loss_metric.result().numpy())\n",
    "\n",
    "            # Reset the metrics for the next epoch\n",
    "            train_loss_metric.reset_states()\n",
    "            train_accuracy.reset_states()\n",
    "            test_loss_metric.reset_states()\n",
    "            test_accuracy.reset_states()\n",
    "    \n",
    "    def predict(self, x):\n",
    "        return np.argmax(self(x),axis=-1)"
   ]
  },
  {
   "cell_type": "code",
   "execution_count": 68,
   "metadata": {},
   "outputs": [],
   "source": [
    "class LSTMCell(tf.keras.layers.Layer):\n",
    "    \"\"\"Simple LSTM cell\n",
    "    \"\"\"\n",
    "    def __init__(self,input_size,output_size):\n",
    "        \"\"\"Inits the class.\"\"\"\n",
    "        super(LSTMCell, self).__init__()\n",
    "        self.Wf = self.add_weight(shape=(input_size+output_size,output_size),\n",
    "                             initializer='random_uniform',\n",
    "                             trainable=True)\n",
    "        self.Bf = self.add_weight(shape=(1,output_size),\n",
    "                             initializer='random_uniform',\n",
    "                             trainable=True)\n",
    "        self.Wi = self.add_weight(shape=(input_size+output_size,output_size),\n",
    "                             initializer='random_uniform',\n",
    "                             trainable=True)\n",
    "        self.Bi = self.add_weight(shape=(1,output_size),\n",
    "                             initializer='random_uniform',\n",
    "                             trainable=True)\n",
    "        self.Wc = self.add_weight(shape=(input_size+output_size,output_size),\n",
    "                             initializer='random_uniform',\n",
    "                             trainable=True)\n",
    "        self.Bc = self.add_weight(shape=(1,output_size),\n",
    "                             initializer='random_uniform',\n",
    "                             trainable=True)\n",
    "        self.Wo = self.add_weight(shape=(input_size+output_size,output_size),\n",
    "                             initializer='random_uniform',\n",
    "                             trainable=True)\n",
    "        self.Bo = self.add_weight(shape=(1,output_size),\n",
    "                             initializer='random_uniform',\n",
    "                             trainable=True)\n",
    "        self.tanh=K.tanh\n",
    "        self.sigmoid=K.sigmoid\n",
    "\n",
    "    #działa na jednym timestepie\n",
    "    #przyjmuje : wyjścia z kroku poprzedniego: batchxoutput, nowe wejścia [batchxembedding]\n",
    "    #returns batchxoutput\n",
    "    def call(self, outputs,signals,inputs):\n",
    "        \"\"\"Makes forward pass of the layer\"\"\"\n",
    "        concat=K.concatenate((tf.dtypes.cast(outputs, tf.float32),tf.dtypes.cast(inputs, tf.float32)), axis=-1)\n",
    "        ft=self.sigmoid(tf.matmul(concat, self.Wf) + self.Bf)\n",
    "        it=self.sigmoid(tf.matmul(concat, self.Wi) + self.Bi)\n",
    "        Ct1=self.tanh(tf.matmul(concat, self.Wc) + self.Bc)\n",
    "        Ct=tf.math.multiply(ft,signals)+tf.math.multiply(it,Ct1)\n",
    "        ot=self.sigmoid(tf.matmul(concat, self.Wo) + self.Bo)\n",
    "        ht=tf.math.multiply(ot,self.tanh(Ct))\n",
    "        return ht,Ct"
   ]
  },
  {
   "cell_type": "code",
   "execution_count": 69,
   "metadata": {},
   "outputs": [],
   "source": [
    "class LSTMModel(tf.keras.Model):\n",
    "    \"\"\"\n",
    "    \"\"\"\n",
    "    def __init__(self,batch_size=100,output_size=32,custom_embedding_layer=True):\n",
    "        super(LSTMModel, self).__init__()\n",
    "        if custom_embedding_layer:\n",
    "            self.embedding_layer=tf.keras.layers.Embedding(88584,300,input_length=100, weights=[embedding_matrix], trainable=False)\n",
    "        else:\n",
    "            self.embedding_layer=tf.keras.layers.Embedding(88584,300,input_length=100,embeddings_initializer='uniform')   \n",
    "        self.cell=LSTMCell(300,output_size)\n",
    "        self.dense_layer=tf.keras.layers.Dense(2, activation='softmax')\n",
    "\n",
    "        self.batch_size=batch_size\n",
    "        self.output_size=output_size\n",
    "        \n",
    "        self.train_learning_accuracy=[]\n",
    "        self.test_learning_accuracy=[]\n",
    "        self.train_learning_losses=[]\n",
    "        self.test_learning_losses=[]\n",
    "\n",
    "    \n",
    "    def call(self, inputs, training=False):\n",
    "        inputs=self.embedding_layer(inputs)\n",
    "        inputs=tf.transpose(inputs,perm=[1, 0, 2])\n",
    "        outputs=tf.zeros((self.batch_size,self.output_size))\n",
    "        signals=outputs=tf.zeros((self.batch_size,self.output_size))\n",
    "        for timestep_inputs in inputs:\n",
    "            outputs,signals=self.cell(outputs,signals,timestep_inputs)\n",
    "        return self.dense_layer(outputs)\n",
    "    \n",
    "    @tf.function\n",
    "    def train_step(self,sequences, labels,loss_function,optimizer, train_loss_metric,train_accuracy):\n",
    "        with tf.GradientTape() as tape:\n",
    "            predictions = self(sequences)\n",
    "            loss = loss_function(labels, predictions)\n",
    "        gradients = tape.gradient(loss, self.trainable_variables)\n",
    "        optimizer.apply_gradients(zip(gradients, self.trainable_variables))\n",
    "        train_loss_metric(loss)\n",
    "        train_accuracy(labels, predictions)\n",
    "        \n",
    "    @tf.function\n",
    "    def test_step(self,images, labels,loss_function,test_loss_metric,test_accuracy):\n",
    "        predictions = self(images)\n",
    "        t_loss = loss_function(labels, predictions)\n",
    "        test_loss_metric(t_loss)\n",
    "        test_accuracy(labels, predictions)\n",
    "\n",
    "    def fit(self,train_xs,train_ys,test_xs,test_ys,loss_function=tf.keras.losses.SparseCategoricalCrossentropy,\n",
    "            epochs=10,optimizer=tf.keras.optimizers.Adam(learning_rate=0.0001)):\n",
    "        \n",
    "        train_ds = tf.data.Dataset.from_tensor_slices((train_xs,train_ys)).shuffle(5000).batch(self.batch_size)\n",
    "        \n",
    "        test_ds = tf.data.Dataset.from_tensor_slices((test_xs, test_ys)).batch(self.batch_size)\n",
    "        \n",
    "        loss_function=loss_function()\n",
    "        \n",
    "        self.train_learning_accuracy=[]\n",
    "        self.test_learning_accuracy=[]\n",
    "        self.train_learning_losses=[]\n",
    "        self.test_learning_losses=[]\n",
    "\n",
    "        train_loss_metric = tf.keras.metrics.Mean(name='train_loss_metric')\n",
    "        train_accuracy = tf.keras.metrics.SparseCategoricalAccuracy(name='train_accuracy')\n",
    "\n",
    "        test_loss_metric = tf.keras.metrics.Mean(name='test_loss_metric')\n",
    "        test_accuracy = tf.keras.metrics.SparseCategoricalAccuracy(name='test_accuracy')\n",
    "        \n",
    "        for epoch in tqdm(range(epochs)):\n",
    "            for batch_seq,batch_labels in train_ds:\n",
    "                self.train_step(batch_seq, batch_labels,loss_function,optimizer,train_loss_metric,train_accuracy)\n",
    "\n",
    "            for test_images, test_labels in test_ds:\n",
    "                self.test_step(test_images, test_labels,loss_function,test_loss_metric,test_accuracy)\n",
    "\n",
    "            template = 'Epoch {}, Loss: {}, Accuracy: {}, Test Loss: {}, Test Accuracy: {}'\n",
    "            print(template.format(epoch+1,\n",
    "                        train_loss_metric.result(),\n",
    "                        train_accuracy.result()*100,\n",
    "                        test_loss_metric.result(),\n",
    "                        test_accuracy.result()*100))\n",
    "            self.train_learning_accuracy.append(train_accuracy.result().numpy()*100)\n",
    "            self.test_learning_accuracy.append(test_accuracy.result().numpy()*100)\n",
    "            self.train_learning_losses.append(train_loss_metric.result().numpy())\n",
    "            self.test_learning_losses.append(test_loss_metric.result().numpy())\n",
    "\n",
    "            # Reset the metrics for the next epoch\n",
    "            train_loss_metric.reset_states()\n",
    "            train_accuracy.reset_states()\n",
    "            test_loss_metric.reset_states()\n",
    "            test_accuracy.reset_states()\n",
    "    \n",
    "    def predict(self, x):\n",
    "        return np.argmax(self(x),axis=-1)"
   ]
  },
  {
   "cell_type": "markdown",
   "metadata": {},
   "source": [
    "## Hyperparameters exploration"
   ]
  },
  {
   "cell_type": "code",
   "execution_count": 49,
   "metadata": {},
   "outputs": [],
   "source": [
    "def run_tests(file_name):\n",
    "    EPOCHS=10\n",
    "    OUTPUT_SIZES=[16,32]\n",
    "    BATCHES=[50,100]\n",
    "    MODELS=[RNNModel,LSTMModel]\n",
    "    MODELS_DESC=['RNN','LSTM']\n",
    "    CUSTOM_EMBEDDING=[True,False]\n",
    "    OPTIMIZERS=[tf.optimizers.Adam(learning_rate=0.001),tf.optimizers.Adam(learning_rate=0.0001)]\n",
    "    OPTIMS_DESC=['ADAM,0.001','ADAM,0.0001']\n",
    "    \n",
    "    cols=['EPOCHS','MODEL','CUSTOM EMBEDDING','OPTIM','OUTPUT_SIZE','BATCH_SIZE','ACC_TRAIN','ACC_TEST','ERROR_TRAIN','ERROR_TEST']\n",
    "    df = pd.DataFrame(columns=cols)\n",
    "    df.to_csv('./csv/' + file_name + '.csv',index=False)\n",
    "    for model in MODELS:\n",
    "        model_desc=MODELS_DESC[MODELS.index(model)]\n",
    "        for custom_embedding in CUSTOM_EMBEDDING:\n",
    "            for optim in OPTIMIZERS:\n",
    "                optim_desc=OPTIMS_DESC[OPTIMIZERS.index(optim)]\n",
    "                for output_size in OUTPUT_SIZES:\n",
    "                    for batch_size in BATCHES:\n",
    "                        epochs=EPOCHS\n",
    "                        if custom_embedding:\n",
    "                            epochs=15\n",
    "                        t_model=model(batch_size=batch_size,output_size=output_size,custom_embedding_layer=custom_embedding)\n",
    "                        t_model.fit(x_train,y_train,x_test,y_test,optimizer=optim,epochs=epochs)\n",
    "                        for epoch in range(epochs):\n",
    "                            acc_train=t_model.train_learning_accuracy[epoch]\n",
    "                            acc_test=t_model.test_learning_accuracy[epoch]\n",
    "                            error_train=t_model.train_learning_losses[epoch]\n",
    "                            error_test=t_model.test_learning_losses[epoch]\n",
    "\n",
    "                            subdf=pd.DataFrame(zip([epoch+1],[model_desc],[custom_embedding],[optim_desc],[output_size],[batch_size],[acc_train],[acc_test],[error_train],[error_test]),\n",
    "                                               columns=cols)\n",
    "\n",
    "                            subdf.to_csv('./csv/' + file_name + '.csv', mode='a', header=False, index=False)"
   ]
  },
  {
   "cell_type": "code",
   "execution_count": null,
   "metadata": {},
   "outputs": [
    {
     "data": {
      "application/vnd.jupyter.widget-view+json": {
       "model_id": "e8102de7539c4d139ffdec1204a48aff",
       "version_major": 2,
       "version_minor": 0
      },
      "text/plain": [
       "HBox(children=(IntProgress(value=0, max=15), HTML(value='')))"
      ]
     },
     "metadata": {},
     "output_type": "display_data"
    },
    {
     "name": "stdout",
     "output_type": "stream",
     "text": [
      "Epoch 1, Loss: 0.6978697180747986, Accuracy: 50.4594612121582, Test Loss: 0.6945657134056091, Test Accuracy: 50.54545593261719\n",
      "Epoch 2, Loss: 0.6912322640419006, Accuracy: 52.94144058227539, Test Loss: 0.6943324208259583, Test Accuracy: 50.39545440673828\n",
      "Epoch 3, Loss: 0.6900586485862732, Accuracy: 53.603599548339844, Test Loss: 0.6919043064117432, Test Accuracy: 54.51818084716797\n",
      "Epoch 4, Loss: 0.6892220377922058, Accuracy: 53.621620178222656, Test Loss: 0.6947879195213318, Test Accuracy: 50.9227294921875\n",
      "Epoch 5, Loss: 0.6898120641708374, Accuracy: 52.923423767089844, Test Loss: 0.6934338212013245, Test Accuracy: 51.004547119140625\n",
      "Epoch 6, Loss: 0.6899139881134033, Accuracy: 52.69820022583008, Test Loss: 0.6969539523124695, Test Accuracy: 50.977272033691406\n",
      "Epoch 7, Loss: 0.6878176927566528, Accuracy: 53.9954948425293, Test Loss: 0.7012823224067688, Test Accuracy: 51.068180084228516\n",
      "Epoch 8, Loss: 0.6860647797584534, Accuracy: 54.387386322021484, Test Loss: 0.6933656930923462, Test Accuracy: 52.37273025512695\n",
      "Epoch 9, Loss: 0.6829935312271118, Accuracy: 55.4504508972168, Test Loss: 0.7115718722343445, Test Accuracy: 51.16817855834961\n",
      "Epoch 10, Loss: 0.6877408623695374, Accuracy: 54.23423767089844, Test Loss: 0.7470700144767761, Test Accuracy: 50.5772705078125\n",
      "Epoch 11, Loss: 0.6939056515693665, Accuracy: 50.88288116455078, Test Loss: 0.693436861038208, Test Accuracy: 50.554542541503906\n",
      "Epoch 12, Loss: 0.6924933195114136, Accuracy: 51.3603630065918, Test Loss: 0.6940315961837769, Test Accuracy: 49.8272705078125\n",
      "Epoch 13, Loss: 0.6908498406410217, Accuracy: 52.69820022583008, Test Loss: 0.6945198178291321, Test Accuracy: 50.26363754272461\n",
      "Epoch 14, Loss: 0.6902379393577576, Accuracy: 52.40540313720703, Test Loss: 0.6965545415878296, Test Accuracy: 50.5409049987793\n",
      "Epoch 15, Loss: 0.6889106631278992, Accuracy: 53.16216278076172, Test Loss: 0.6957324743270874, Test Accuracy: 51.15454864501953\n",
      "\n"
     ]
    },
    {
     "data": {
      "application/vnd.jupyter.widget-view+json": {
       "model_id": "8734cc7723104fa0a0ae06b4438529b8",
       "version_major": 2,
       "version_minor": 0
      },
      "text/plain": [
       "HBox(children=(IntProgress(value=0, max=15), HTML(value='')))"
      ]
     },
     "metadata": {},
     "output_type": "display_data"
    },
    {
     "name": "stdout",
     "output_type": "stream",
     "text": [
      "Epoch 1, Loss: 0.698153018951416, Accuracy: 50.75225067138672, Test Loss: 0.6928658485412598, Test Accuracy: 51.345455169677734\n",
      "Epoch 2, Loss: 0.6891374588012695, Accuracy: 53.58108139038086, Test Loss: 0.6912247538566589, Test Accuracy: 53.53636169433594\n",
      "Epoch 3, Loss: 0.6878390908241272, Accuracy: 54.20720672607422, Test Loss: 0.694863498210907, Test Accuracy: 50.0590934753418\n",
      "Epoch 4, Loss: 0.6874278783798218, Accuracy: 54.067569732666016, Test Loss: 0.6909611225128174, Test Accuracy: 53.181819915771484\n",
      "Epoch 5, Loss: 0.6868882775306702, Accuracy: 54.418922424316406, Test Loss: 0.6942727565765381, Test Accuracy: 50.90454864501953\n",
      "Epoch 6, Loss: 0.6871310472488403, Accuracy: 54.31531524658203, Test Loss: 0.6913575530052185, Test Accuracy: 53.186363220214844\n",
      "Epoch 7, Loss: 0.6838138103485107, Accuracy: 55.25675582885742, Test Loss: 0.684980571269989, Test Accuracy: 55.58182144165039\n",
      "Epoch 8, Loss: 0.6774392127990723, Accuracy: 57.72522735595703, Test Loss: 0.6901389956474304, Test Accuracy: 55.02727127075195\n",
      "Epoch 9, Loss: 0.6806033849716187, Accuracy: 56.477474212646484, Test Loss: 0.6848610639572144, Test Accuracy: 56.7863655090332\n",
      "Epoch 10, Loss: 0.6853466033935547, Accuracy: 54.878379821777344, Test Loss: 0.6955790519714355, Test Accuracy: 50.73181915283203\n",
      "Epoch 11, Loss: 0.6883088946342468, Accuracy: 54.07207107543945, Test Loss: 0.6977729201316833, Test Accuracy: 49.695457458496094\n",
      "Epoch 12, Loss: 0.6880611181259155, Accuracy: 53.648651123046875, Test Loss: 0.6963087320327759, Test Accuracy: 50.89091110229492\n",
      "Epoch 13, Loss: 0.6855621337890625, Accuracy: 54.486488342285156, Test Loss: 0.696823239326477, Test Accuracy: 51.1363639831543\n",
      "Epoch 14, Loss: 0.6834518313407898, Accuracy: 55.135135650634766, Test Loss: 0.6981410384178162, Test Accuracy: 51.477272033691406\n",
      "Epoch 15, Loss: 0.6811952590942383, Accuracy: 55.828826904296875, Test Loss: 0.6957343220710754, Test Accuracy: 52.581817626953125\n",
      "\n"
     ]
    },
    {
     "data": {
      "application/vnd.jupyter.widget-view+json": {
       "model_id": "dadd7ed14885469c9b7f778bbb715615",
       "version_major": 2,
       "version_minor": 0
      },
      "text/plain": [
       "HBox(children=(IntProgress(value=0, max=15), HTML(value='')))"
      ]
     },
     "metadata": {},
     "output_type": "display_data"
    },
    {
     "name": "stdout",
     "output_type": "stream",
     "text": [
      "Epoch 1, Loss: 0.7000588774681091, Accuracy: 50.65315246582031, Test Loss: 0.6928512454032898, Test Accuracy: 51.05000305175781\n",
      "Epoch 2, Loss: 0.6901586055755615, Accuracy: 53.27477264404297, Test Loss: 0.6940604448318481, Test Accuracy: 51.568180084228516\n",
      "Epoch 3, Loss: 0.6900303959846497, Accuracy: 52.92792892456055, Test Loss: 0.6931750774383545, Test Accuracy: 51.34090805053711\n",
      "Epoch 4, Loss: 0.6869950890541077, Accuracy: 54.5945930480957, Test Loss: 0.6935989856719971, Test Accuracy: 50.818180084228516\n",
      "Epoch 5, Loss: 0.6886805891990662, Accuracy: 53.69820022583008, Test Loss: 0.6858826875686646, Test Accuracy: 55.51363754272461\n",
      "Epoch 6, Loss: 0.6844589114189148, Accuracy: 55.37837600708008, Test Loss: 0.6876490712165833, Test Accuracy: 55.64091110229492\n",
      "Epoch 7, Loss: 0.6828976273536682, Accuracy: 56.10360336303711, Test Loss: 0.6994103193283081, Test Accuracy: 52.83636474609375\n",
      "Epoch 8, Loss: 0.6858506798744202, Accuracy: 54.51802062988281, Test Loss: 0.6956782341003418, Test Accuracy: 52.859092712402344\n",
      "Epoch 9, Loss: 0.6859527230262756, Accuracy: 54.78378677368164, Test Loss: 0.6964917778968811, Test Accuracy: 50.68181610107422\n",
      "Epoch 10, Loss: 0.6854943633079529, Accuracy: 54.79279327392578, Test Loss: 0.6941652297973633, Test Accuracy: 53.70454788208008\n",
      "Epoch 11, Loss: 0.6802486777305603, Accuracy: 56.45945739746094, Test Loss: 0.6952646970748901, Test Accuracy: 52.85454559326172\n",
      "Epoch 12, Loss: 0.6775973439216614, Accuracy: 57.24324417114258, Test Loss: 0.6901977062225342, Test Accuracy: 55.1727294921875\n",
      "Epoch 13, Loss: 0.6793444752693176, Accuracy: 56.37387466430664, Test Loss: 0.6860396862030029, Test Accuracy: 56.68636703491211\n",
      "Epoch 14, Loss: 0.6730988025665283, Accuracy: 58.13964080810547, Test Loss: 0.6941868662834167, Test Accuracy: 53.45454788208008\n",
      "Epoch 15, Loss: 0.671418309211731, Accuracy: 58.61711502075195, Test Loss: 0.6951262950897217, Test Accuracy: 53.263633728027344\n",
      "\n"
     ]
    },
    {
     "data": {
      "application/vnd.jupyter.widget-view+json": {
       "model_id": "87d2f6b5cd97450f951a982e9b04b3ae",
       "version_major": 2,
       "version_minor": 0
      },
      "text/plain": [
       "HBox(children=(IntProgress(value=0, max=15), HTML(value='')))"
      ]
     },
     "metadata": {},
     "output_type": "display_data"
    },
    {
     "name": "stdout",
     "output_type": "stream",
     "text": [
      "Epoch 1, Loss: 0.7000913023948669, Accuracy: 50.24324035644531, Test Loss: 0.693232536315918, Test Accuracy: 51.20454406738281\n",
      "Epoch 2, Loss: 0.6913087368011475, Accuracy: 52.878379821777344, Test Loss: 0.6935679912567139, Test Accuracy: 50.2136344909668\n",
      "Epoch 3, Loss: 0.6918392181396484, Accuracy: 52.274776458740234, Test Loss: 0.6941064596176147, Test Accuracy: 50.96818161010742\n",
      "Epoch 4, Loss: 0.6912994384765625, Accuracy: 52.72071838378906, Test Loss: 0.695079505443573, Test Accuracy: 51.099998474121094\n",
      "Epoch 5, Loss: 0.6891449689865112, Accuracy: 53.509010314941406, Test Loss: 0.6951705813407898, Test Accuracy: 52.39999771118164\n",
      "Epoch 6, Loss: 0.687706470489502, Accuracy: 54.297298431396484, Test Loss: 0.6957554817199707, Test Accuracy: 51.318180084228516\n",
      "Epoch 7, Loss: 0.688227117061615, Accuracy: 53.55405044555664, Test Loss: 0.6945061683654785, Test Accuracy: 50.72272872924805\n",
      "Epoch 8, Loss: 0.6847926378250122, Accuracy: 54.954952239990234, Test Loss: 0.6945782899856567, Test Accuracy: 53.068180084228516\n",
      "Epoch 9, Loss: 0.682515025138855, Accuracy: 55.62162399291992, Test Loss: 0.6915139555931091, Test Accuracy: 54.009090423583984\n",
      "Epoch 10, Loss: 0.6857657432556152, Accuracy: 54.306304931640625, Test Loss: 0.6968061327934265, Test Accuracy: 50.6363639831543\n",
      "Epoch 11, Loss: 0.6866343021392822, Accuracy: 54.306304931640625, Test Loss: 0.6949619054794312, Test Accuracy: 53.827274322509766\n",
      "Epoch 12, Loss: 0.6889069676399231, Accuracy: 53.76576614379883, Test Loss: 0.6984808444976807, Test Accuracy: 49.900001525878906\n",
      "Epoch 13, Loss: 0.6860698461532593, Accuracy: 54.31081008911133, Test Loss: 0.6995709538459778, Test Accuracy: 50.69545364379883\n",
      "Epoch 14, Loss: 0.6829294562339783, Accuracy: 55.47747802734375, Test Loss: 0.6995468735694885, Test Accuracy: 51.25908660888672\n",
      "Epoch 15, Loss: 0.6803501844406128, Accuracy: 55.945945739746094, Test Loss: 0.699325442314148, Test Accuracy: 51.518184661865234\n",
      "\n"
     ]
    },
    {
     "data": {
      "application/vnd.jupyter.widget-view+json": {
       "model_id": "212337a17fdc4c7db8045476c42cb5e3",
       "version_major": 2,
       "version_minor": 0
      },
      "text/plain": [
       "HBox(children=(IntProgress(value=0, max=15), HTML(value='')))"
      ]
     },
     "metadata": {},
     "output_type": "display_data"
    },
    {
     "name": "stdout",
     "output_type": "stream",
     "text": [
      "Epoch 1, Loss: 0.6961714029312134, Accuracy: 50.27927780151367, Test Loss: 0.6944604516029358, Test Accuracy: 50.38181686401367\n",
      "Epoch 2, Loss: 0.6926785111427307, Accuracy: 51.55855941772461, Test Loss: 0.6942986845970154, Test Accuracy: 50.495452880859375\n",
      "Epoch 3, Loss: 0.6913669109344482, Accuracy: 52.23423385620117, Test Loss: 0.6944727301597595, Test Accuracy: 50.804542541503906\n",
      "Epoch 4, Loss: 0.6907241940498352, Accuracy: 52.71171188354492, Test Loss: 0.6960169076919556, Test Accuracy: 50.663639068603516\n",
      "Epoch 5, Loss: 0.6900991201400757, Accuracy: 52.75225067138672, Test Loss: 0.6942528486251831, Test Accuracy: 51.06364059448242\n",
      "Epoch 6, Loss: 0.6893939971923828, Accuracy: 53.11711502075195, Test Loss: 0.6947590708732605, Test Accuracy: 51.19545364379883\n",
      "Epoch 7, Loss: 0.6886442303657532, Accuracy: 53.725223541259766, Test Loss: 0.6948623657226562, Test Accuracy: 51.54091262817383\n",
      "Epoch 8, Loss: 0.6878437995910645, Accuracy: 53.693695068359375, Test Loss: 0.6942305564880371, Test Accuracy: 51.45909118652344\n",
      "Epoch 9, Loss: 0.6867850422859192, Accuracy: 54.27928161621094, Test Loss: 0.6942128539085388, Test Accuracy: 51.76363754272461\n",
      "Epoch 10, Loss: 0.6862264275550842, Accuracy: 54.43243408203125, Test Loss: 0.694111168384552, Test Accuracy: 51.91818618774414\n",
      "Epoch 11, Loss: 0.6851487159729004, Accuracy: 55.058555603027344, Test Loss: 0.6938204765319824, Test Accuracy: 52.422725677490234\n",
      "Epoch 12, Loss: 0.6837497353553772, Accuracy: 55.19820022583008, Test Loss: 0.6936764121055603, Test Accuracy: 52.87273025512695\n",
      "Epoch 13, Loss: 0.6822293400764465, Accuracy: 55.590087890625, Test Loss: 0.6921929121017456, Test Accuracy: 53.918182373046875\n",
      "Epoch 14, Loss: 0.6803852319717407, Accuracy: 56.090091705322266, Test Loss: 0.6900110244750977, Test Accuracy: 54.53181838989258\n",
      "Epoch 15, Loss: 0.6720759272575378, Accuracy: 58.157657623291016, Test Loss: 0.6678432822227478, Test Accuracy: 60.422725677490234\n",
      "\n"
     ]
    },
    {
     "data": {
      "application/vnd.jupyter.widget-view+json": {
       "model_id": "fefc7df5f485494091784893eeeb444d",
       "version_major": 2,
       "version_minor": 0
      },
      "text/plain": [
       "HBox(children=(IntProgress(value=0, max=15), HTML(value='')))"
      ]
     },
     "metadata": {},
     "output_type": "display_data"
    },
    {
     "name": "stdout",
     "output_type": "stream",
     "text": [
      "Epoch 1, Loss: 0.6958163380622864, Accuracy: 50.84684371948242, Test Loss: 0.6953076720237732, Test Accuracy: 50.495452880859375\n",
      "Epoch 2, Loss: 0.6915297508239746, Accuracy: 52.499996185302734, Test Loss: 0.6946484446525574, Test Accuracy: 50.44545364379883\n",
      "Epoch 3, Loss: 0.6902632713317871, Accuracy: 52.81981658935547, Test Loss: 0.6950051188468933, Test Accuracy: 50.9636344909668\n",
      "Epoch 4, Loss: 0.6890100836753845, Accuracy: 53.59910202026367, Test Loss: 0.6950761675834656, Test Accuracy: 51.177276611328125\n",
      "Epoch 5, Loss: 0.6880794167518616, Accuracy: 53.70720672607422, Test Loss: 0.6945064067840576, Test Accuracy: 51.10454559326172\n",
      "Epoch 6, Loss: 0.6867892742156982, Accuracy: 54.797298431396484, Test Loss: 0.6951802968978882, Test Accuracy: 51.18181610107422\n",
      "Epoch 7, Loss: 0.6856437921524048, Accuracy: 54.66216278076172, Test Loss: 0.6942782998085022, Test Accuracy: 51.62727355957031\n",
      "Epoch 8, Loss: 0.6844598650932312, Accuracy: 54.945945739746094, Test Loss: 0.6950455904006958, Test Accuracy: 52.03636169433594\n",
      "Epoch 9, Loss: 0.6831534504890442, Accuracy: 55.80180358886719, Test Loss: 0.6941875219345093, Test Accuracy: 52.39545822143555\n",
      "Epoch 10, Loss: 0.6819794774055481, Accuracy: 55.82432174682617, Test Loss: 0.6934970617294312, Test Accuracy: 52.99090576171875\n",
      "Epoch 11, Loss: 0.6807434558868408, Accuracy: 56.054054260253906, Test Loss: 0.692413866519928, Test Accuracy: 53.404544830322266\n",
      "Epoch 12, Loss: 0.6778518557548523, Accuracy: 56.97297286987305, Test Loss: 0.6894750595092773, Test Accuracy: 54.76818084716797\n",
      "Epoch 13, Loss: 0.6678870320320129, Accuracy: 59.16216278076172, Test Loss: 0.6628556847572327, Test Accuracy: 61.21363830566406\n",
      "Epoch 14, Loss: 0.651721715927124, Accuracy: 62.23423385620117, Test Loss: 0.6520097851753235, Test Accuracy: 62.4227294921875\n",
      "Epoch 15, Loss: 0.6445277333259583, Accuracy: 63.5045051574707, Test Loss: 0.6546309590339661, Test Accuracy: 61.72272491455078\n",
      "\n"
     ]
    },
    {
     "data": {
      "application/vnd.jupyter.widget-view+json": {
       "model_id": "44aa483aff1349939300b3b4f063bdec",
       "version_major": 2,
       "version_minor": 0
      },
      "text/plain": [
       "HBox(children=(IntProgress(value=0, max=15), HTML(value='')))"
      ]
     },
     "metadata": {},
     "output_type": "display_data"
    },
    {
     "name": "stdout",
     "output_type": "stream",
     "text": [
      "Epoch 1, Loss: 0.6963161826133728, Accuracy: 50.28828811645508, Test Loss: 0.693406879901886, Test Accuracy: 51.23636245727539\n",
      "Epoch 2, Loss: 0.6914037466049194, Accuracy: 52.666664123535156, Test Loss: 0.6936284899711609, Test Accuracy: 51.686363220214844\n",
      "Epoch 3, Loss: 0.6891680955886841, Accuracy: 53.738739013671875, Test Loss: 0.6941418051719666, Test Accuracy: 51.45454406738281\n",
      "Epoch 4, Loss: 0.6875180006027222, Accuracy: 54.558555603027344, Test Loss: 0.6947559118270874, Test Accuracy: 51.427276611328125\n",
      "Epoch 5, Loss: 0.6855214834213257, Accuracy: 54.97747802734375, Test Loss: 0.6927787065505981, Test Accuracy: 52.818180084228516\n",
      "Epoch 6, Loss: 0.682171106338501, Accuracy: 56.274776458740234, Test Loss: 0.6878191232681274, Test Accuracy: 54.945457458496094\n",
      "Epoch 7, Loss: 0.6668462157249451, Accuracy: 59.67116928100586, Test Loss: 0.6688458323478699, Test Accuracy: 60.39545440673828\n",
      "Epoch 8, Loss: 0.6558040976524353, Accuracy: 61.288291931152344, Test Loss: 0.6584852933883667, Test Accuracy: 62.272727966308594\n",
      "Epoch 9, Loss: 0.6487036347389221, Accuracy: 62.74324035644531, Test Loss: 0.66614830493927, Test Accuracy: 61.60908889770508\n",
      "Epoch 10, Loss: 0.6473531723022461, Accuracy: 62.864864349365234, Test Loss: 0.6498201489448547, Test Accuracy: 63.022727966308594\n",
      "Epoch 11, Loss: 0.6410980224609375, Accuracy: 63.94594192504883, Test Loss: 0.6447613835334778, Test Accuracy: 63.8272705078125\n",
      "Epoch 12, Loss: 0.6370401978492737, Accuracy: 64.02252197265625, Test Loss: 0.6507954597473145, Test Accuracy: 63.1363639831543\n",
      "Epoch 13, Loss: 0.6358135938644409, Accuracy: 64.68468475341797, Test Loss: 0.6393488049507141, Test Accuracy: 64.43636322021484\n",
      "Epoch 14, Loss: 0.6327028274536133, Accuracy: 64.93242645263672, Test Loss: 0.6866667866706848, Test Accuracy: 59.25909423828125\n",
      "Epoch 15, Loss: 0.6317814588546753, Accuracy: 65.08108520507812, Test Loss: 0.6362241506576538, Test Accuracy: 65.12272644042969\n",
      "\n"
     ]
    },
    {
     "data": {
      "application/vnd.jupyter.widget-view+json": {
       "model_id": "63d160e53dcb4f369840166c5c101c39",
       "version_major": 2,
       "version_minor": 0
      },
      "text/plain": [
       "HBox(children=(IntProgress(value=0, max=15), HTML(value='')))"
      ]
     },
     "metadata": {},
     "output_type": "display_data"
    },
    {
     "name": "stdout",
     "output_type": "stream",
     "text": [
      "Epoch 1, Loss: 0.6974418759346008, Accuracy: 50.58108139038086, Test Loss: 0.6958313584327698, Test Accuracy: 50.70000457763672\n",
      "Epoch 2, Loss: 0.6914370656013489, Accuracy: 52.054054260253906, Test Loss: 0.694606602191925, Test Accuracy: 51.163639068603516\n",
      "Epoch 3, Loss: 0.6893149018287659, Accuracy: 53.261260986328125, Test Loss: 0.6957827210426331, Test Accuracy: 51.01363754272461\n",
      "Epoch 4, Loss: 0.6874657869338989, Accuracy: 53.990989685058594, Test Loss: 0.6954604387283325, Test Accuracy: 51.068180084228516\n",
      "Epoch 5, Loss: 0.6860496401786804, Accuracy: 54.900901794433594, Test Loss: 0.6949611902236938, Test Accuracy: 51.922725677490234\n",
      "Epoch 6, Loss: 0.6845580339431763, Accuracy: 55.171173095703125, Test Loss: 0.6946815252304077, Test Accuracy: 52.20454406738281\n",
      "Epoch 7, Loss: 0.6829135417938232, Accuracy: 55.73423385620117, Test Loss: 0.6935908794403076, Test Accuracy: 52.890907287597656\n",
      "Epoch 8, Loss: 0.6799908876419067, Accuracy: 56.52702331542969, Test Loss: 0.6916650533676147, Test Accuracy: 54.168182373046875\n",
      "Epoch 9, Loss: 0.6721047163009644, Accuracy: 58.77928161621094, Test Loss: 0.6777967214584351, Test Accuracy: 57.15454864501953\n",
      "Epoch 10, Loss: 0.6506060361862183, Accuracy: 62.4954948425293, Test Loss: 0.6663396954536438, Test Accuracy: 61.154544830322266\n",
      "Epoch 11, Loss: 0.6412542462348938, Accuracy: 63.5450439453125, Test Loss: 0.6431453227996826, Test Accuracy: 64.0772705078125\n",
      "Epoch 12, Loss: 0.6351786851882935, Accuracy: 64.30630493164062, Test Loss: 0.6401054263114929, Test Accuracy: 64.16363525390625\n",
      "Epoch 13, Loss: 0.6319940090179443, Accuracy: 64.70720672607422, Test Loss: 0.6539443731307983, Test Accuracy: 63.01363754272461\n",
      "Epoch 14, Loss: 0.6287275552749634, Accuracy: 65.35134887695312, Test Loss: 0.6360217928886414, Test Accuracy: 64.87727355957031\n",
      "Epoch 15, Loss: 0.6262189149856567, Accuracy: 65.50450134277344, Test Loss: 0.6371778249740601, Test Accuracy: 65.13636016845703\n",
      "\n"
     ]
    },
    {
     "data": {
      "application/vnd.jupyter.widget-view+json": {
       "model_id": "2aaa4a0f052e44dfb2e9ddf39b6e0a4f",
       "version_major": 2,
       "version_minor": 0
      },
      "text/plain": [
       "HBox(children=(IntProgress(value=0, max=10), HTML(value='')))"
      ]
     },
     "metadata": {},
     "output_type": "display_data"
    },
    {
     "name": "stdout",
     "output_type": "stream",
     "text": [
      "Epoch 1, Loss: 0.682126522064209, Accuracy: 55.22972869873047, Test Loss: 0.6276549100875854, Test Accuracy: 66.00909423828125\n",
      "Epoch 2, Loss: 0.6324514150619507, Accuracy: 65.52703094482422, Test Loss: 0.6570194363594055, Test Accuracy: 62.30000305175781\n",
      "Epoch 3, Loss: 0.5975956320762634, Accuracy: 69.48648834228516, Test Loss: 0.6326696872711182, Test Accuracy: 66.56818389892578\n",
      "Epoch 4, Loss: 0.6170345544815063, Accuracy: 65.61261749267578, Test Loss: 0.6935148239135742, Test Accuracy: 51.677276611328125\n",
      "Epoch 5, Loss: 0.6770046949386597, Accuracy: 57.0, Test Loss: 0.695946455001831, Test Accuracy: 52.33636474609375\n",
      "Epoch 6, Loss: 0.6571633815765381, Accuracy: 58.932430267333984, Test Loss: 0.6972428560256958, Test Accuracy: 55.59090805053711\n",
      "Epoch 7, Loss: 0.6036425828933716, Accuracy: 67.35135650634766, Test Loss: 0.6625027060508728, Test Accuracy: 62.581817626953125\n",
      "Epoch 8, Loss: 0.6332207918167114, Accuracy: 62.79729461669922, Test Loss: 0.7060244679450989, Test Accuracy: 53.63636779785156\n",
      "Epoch 9, Loss: 0.6417617797851562, Accuracy: 60.95945739746094, Test Loss: 0.7069002985954285, Test Accuracy: 55.60454559326172\n",
      "Epoch 10, Loss: 0.6119421720504761, Accuracy: 64.78828430175781, Test Loss: 0.6660829186439514, Test Accuracy: 64.37727355957031\n",
      "\n"
     ]
    },
    {
     "data": {
      "application/vnd.jupyter.widget-view+json": {
       "model_id": "b4a72c52b16a46e086d834dbdec07e65",
       "version_major": 2,
       "version_minor": 0
      },
      "text/plain": [
       "HBox(children=(IntProgress(value=0, max=10), HTML(value='')))"
      ]
     },
     "metadata": {},
     "output_type": "display_data"
    },
    {
     "name": "stdout",
     "output_type": "stream",
     "text": [
      "Epoch 1, Loss: 0.683287501335144, Accuracy: 55.63964080810547, Test Loss: 0.6783073544502258, Test Accuracy: 57.50908660888672\n",
      "Epoch 2, Loss: 0.6269795298576355, Accuracy: 65.94144439697266, Test Loss: 0.6330063343048096, Test Accuracy: 66.02727508544922\n",
      "Epoch 3, Loss: 0.5962546467781067, Accuracy: 69.63063049316406, Test Loss: 0.6911414265632629, Test Accuracy: 59.931819915771484\n",
      "Epoch 4, Loss: 0.6361954808235168, Accuracy: 63.0945930480957, Test Loss: 0.6843948364257812, Test Accuracy: 58.41818618774414\n",
      "Epoch 5, Loss: 0.6002766489982605, Accuracy: 68.06306457519531, Test Loss: 0.6782973408699036, Test Accuracy: 61.62272644042969\n",
      "Epoch 6, Loss: 0.5725620985031128, Accuracy: 71.3558578491211, Test Loss: 0.6720350980758667, Test Accuracy: 63.52727508544922\n",
      "Epoch 7, Loss: 0.5556982159614563, Accuracy: 73.09459686279297, Test Loss: 0.6402241587638855, Test Accuracy: 67.1772689819336\n",
      "Epoch 8, Loss: 0.539551317691803, Accuracy: 74.6441421508789, Test Loss: 0.6359075903892517, Test Accuracy: 68.01364135742188\n",
      "Epoch 9, Loss: 0.5491207838058472, Accuracy: 73.77477264404297, Test Loss: 0.6560764908790588, Test Accuracy: 66.6772689819336\n",
      "Epoch 10, Loss: 0.5624366402626038, Accuracy: 71.59459686279297, Test Loss: 0.6861920356750488, Test Accuracy: 57.74545669555664\n",
      "\n"
     ]
    },
    {
     "data": {
      "application/vnd.jupyter.widget-view+json": {
       "model_id": "a2fc727adfda4f1182bd968de4a0db80",
       "version_major": 2,
       "version_minor": 0
      },
      "text/plain": [
       "HBox(children=(IntProgress(value=0, max=10), HTML(value='')))"
      ]
     },
     "metadata": {},
     "output_type": "display_data"
    },
    {
     "name": "stdout",
     "output_type": "stream",
     "text": [
      "Epoch 1, Loss: 0.6888126134872437, Accuracy: 53.59459686279297, Test Loss: 0.6912344694137573, Test Accuracy: 53.11363220214844\n",
      "Epoch 2, Loss: 0.6753145456314087, Accuracy: 57.65315246582031, Test Loss: 0.6929466128349304, Test Accuracy: 51.563636779785156\n",
      "Epoch 3, Loss: 0.6750071048736572, Accuracy: 56.486488342285156, Test Loss: 0.700343668460846, Test Accuracy: 51.51363754272461\n",
      "Epoch 4, Loss: 0.6646430492401123, Accuracy: 57.56756591796875, Test Loss: 0.7073186039924622, Test Accuracy: 51.936363220214844\n",
      "Epoch 5, Loss: 0.6604645848274231, Accuracy: 57.468467712402344, Test Loss: 0.7117113471031189, Test Accuracy: 51.7136344909668\n",
      "Epoch 6, Loss: 0.657795250415802, Accuracy: 58.036033630371094, Test Loss: 0.7121163010597229, Test Accuracy: 52.20909118652344\n",
      "Epoch 7, Loss: 0.653407633304596, Accuracy: 57.82883071899414, Test Loss: 0.7163167595863342, Test Accuracy: 51.95000076293945\n",
      "Epoch 8, Loss: 0.6519060730934143, Accuracy: 58.47747802734375, Test Loss: 0.723242461681366, Test Accuracy: 52.21818161010742\n",
      "Epoch 9, Loss: 0.6504806876182556, Accuracy: 58.081077575683594, Test Loss: 0.7255605459213257, Test Accuracy: 51.66817855834961\n",
      "Epoch 10, Loss: 0.6483397483825684, Accuracy: 58.45044708251953, Test Loss: 0.7255142331123352, Test Accuracy: 52.12727355957031\n",
      "\n"
     ]
    },
    {
     "data": {
      "application/vnd.jupyter.widget-view+json": {
       "model_id": "59f44b795ee2412588f277af968cf1af",
       "version_major": 2,
       "version_minor": 0
      },
      "text/plain": [
       "HBox(children=(IntProgress(value=0, max=10), HTML(value='')))"
      ]
     },
     "metadata": {},
     "output_type": "display_data"
    },
    {
     "name": "stdout",
     "output_type": "stream",
     "text": [
      "Epoch 1, Loss: 0.6819090247154236, Accuracy: 55.671173095703125, Test Loss: 0.6414295434951782, Test Accuracy: 64.25454711914062\n",
      "Epoch 2, Loss: 0.6401233077049255, Accuracy: 64.18468475341797, Test Loss: 0.6711418032646179, Test Accuracy: 59.79999923706055\n",
      "Epoch 3, Loss: 0.6255607008934021, Accuracy: 65.30180358886719, Test Loss: 0.6426270008087158, Test Accuracy: 66.4272689819336\n",
      "Epoch 4, Loss: 0.5855244994163513, Accuracy: 69.590087890625, Test Loss: 0.6418017148971558, Test Accuracy: 65.25909423828125\n",
      "Epoch 5, Loss: 0.556377112865448, Accuracy: 72.60810852050781, Test Loss: 0.7441604137420654, Test Accuracy: 55.2136344909668\n",
      "Epoch 6, Loss: 0.6157447695732117, Accuracy: 64.45945739746094, Test Loss: 0.6510826945304871, Test Accuracy: 66.76363372802734\n",
      "Epoch 7, Loss: 0.5991895794868469, Accuracy: 67.33333587646484, Test Loss: 0.6797976493835449, Test Accuracy: 63.009090423583984\n",
      "Epoch 8, Loss: 0.5559968948364258, Accuracy: 72.24324035644531, Test Loss: 0.6510186195373535, Test Accuracy: 66.74090576171875\n",
      "Epoch 9, Loss: 0.523018479347229, Accuracy: 75.40990447998047, Test Loss: 0.6898381114006042, Test Accuracy: 64.23181915283203\n",
      "Epoch 10, Loss: 0.5457432866096497, Accuracy: 72.83783721923828, Test Loss: 0.7112284302711487, Test Accuracy: 63.272727966308594\n",
      "\n"
     ]
    },
    {
     "data": {
      "application/vnd.jupyter.widget-view+json": {
       "model_id": "9a9771f986a9422a9b16542697a4c1d7",
       "version_major": 2,
       "version_minor": 0
      },
      "text/plain": [
       "HBox(children=(IntProgress(value=0, max=10), HTML(value='')))"
      ]
     },
     "metadata": {},
     "output_type": "display_data"
    },
    {
     "name": "stdout",
     "output_type": "stream",
     "text": [
      "Epoch 1, Loss: 0.6919733285903931, Accuracy: 51.662166595458984, Test Loss: 0.6912028193473816, Test Accuracy: 52.20454406738281\n",
      "Epoch 2, Loss: 0.6526021361351013, Accuracy: 61.73423385620117, Test Loss: 0.5428692102432251, Test Accuracy: 73.5227279663086\n",
      "Epoch 3, Loss: 0.470180869102478, Accuracy: 78.6891860961914, Test Loss: 0.4903225600719452, Test Accuracy: 77.74090576171875\n",
      "Epoch 4, Loss: 0.4228459894657135, Accuracy: 81.84234619140625, Test Loss: 0.47221750020980835, Test Accuracy: 78.89545440673828\n",
      "Epoch 5, Loss: 0.4024449586868286, Accuracy: 83.1351318359375, Test Loss: 0.4749535918235779, Test Accuracy: 78.99545288085938\n",
      "Epoch 6, Loss: 0.39137372374534607, Accuracy: 83.75675964355469, Test Loss: 0.47277551889419556, Test Accuracy: 78.87272644042969\n",
      "Epoch 7, Loss: 0.3842231333255768, Accuracy: 84.26126098632812, Test Loss: 0.4827677607536316, Test Accuracy: 78.48636627197266\n",
      "Epoch 8, Loss: 0.3776252269744873, Accuracy: 84.51351165771484, Test Loss: 0.4963834583759308, Test Accuracy: 78.48636627197266\n"
     ]
    }
   ],
   "source": [
    "run_tests('research_lstm_v2')"
   ]
  },
  {
   "cell_type": "markdown",
   "metadata": {},
   "source": [
    "### Results visualisation"
   ]
  },
  {
   "cell_type": "code",
   "execution_count": 71,
   "metadata": {},
   "outputs": [],
   "source": [
    "results=pd.read_csv('csv/research_lstm_v2.csv')"
   ]
  },
  {
   "cell_type": "code",
   "execution_count": 86,
   "metadata": {},
   "outputs": [
    {
     "data": {
      "text/html": [
       "<div>\n",
       "<style scoped>\n",
       "    .dataframe tbody tr th:only-of-type {\n",
       "        vertical-align: middle;\n",
       "    }\n",
       "\n",
       "    .dataframe tbody tr th {\n",
       "        vertical-align: top;\n",
       "    }\n",
       "\n",
       "    .dataframe thead th {\n",
       "        text-align: right;\n",
       "    }\n",
       "</style>\n",
       "<table border=\"1\" class=\"dataframe\">\n",
       "  <thead>\n",
       "    <tr style=\"text-align: right;\">\n",
       "      <th></th>\n",
       "      <th>EPOCHS</th>\n",
       "      <th>MODEL</th>\n",
       "      <th>CUSTOM EMBEDDING</th>\n",
       "      <th>OPTIM</th>\n",
       "      <th>OUTPUT_SIZE</th>\n",
       "      <th>BATCH_SIZE</th>\n",
       "      <th>ACC_TRAIN</th>\n",
       "      <th>ACC_TEST</th>\n",
       "      <th>ERROR_TRAIN</th>\n",
       "      <th>ERROR_TEST</th>\n",
       "    </tr>\n",
       "  </thead>\n",
       "  <tbody>\n",
       "    <tr>\n",
       "      <td>386</td>\n",
       "      <td>7</td>\n",
       "      <td>LSTM</td>\n",
       "      <td>False</td>\n",
       "      <td>ADAM,0.0001</td>\n",
       "      <td>32</td>\n",
       "      <td>50</td>\n",
       "      <td>83.981985</td>\n",
       "      <td>79.895455</td>\n",
       "      <td>0.358366</td>\n",
       "      <td>0.442491</td>\n",
       "    </tr>\n",
       "    <tr>\n",
       "      <td>385</td>\n",
       "      <td>6</td>\n",
       "      <td>LSTM</td>\n",
       "      <td>False</td>\n",
       "      <td>ADAM,0.0001</td>\n",
       "      <td>32</td>\n",
       "      <td>50</td>\n",
       "      <td>83.837837</td>\n",
       "      <td>79.840910</td>\n",
       "      <td>0.365387</td>\n",
       "      <td>0.450434</td>\n",
       "    </tr>\n",
       "    <tr>\n",
       "      <td>384</td>\n",
       "      <td>5</td>\n",
       "      <td>LSTM</td>\n",
       "      <td>False</td>\n",
       "      <td>ADAM,0.0001</td>\n",
       "      <td>32</td>\n",
       "      <td>50</td>\n",
       "      <td>83.189189</td>\n",
       "      <td>79.836363</td>\n",
       "      <td>0.375791</td>\n",
       "      <td>0.440184</td>\n",
       "    </tr>\n",
       "    <tr>\n",
       "      <td>387</td>\n",
       "      <td>8</td>\n",
       "      <td>LSTM</td>\n",
       "      <td>False</td>\n",
       "      <td>ADAM,0.0001</td>\n",
       "      <td>32</td>\n",
       "      <td>50</td>\n",
       "      <td>84.504503</td>\n",
       "      <td>79.786366</td>\n",
       "      <td>0.350844</td>\n",
       "      <td>0.450028</td>\n",
       "    </tr>\n",
       "    <tr>\n",
       "      <td>396</td>\n",
       "      <td>7</td>\n",
       "      <td>LSTM</td>\n",
       "      <td>False</td>\n",
       "      <td>ADAM,0.0001</td>\n",
       "      <td>32</td>\n",
       "      <td>100</td>\n",
       "      <td>84.252250</td>\n",
       "      <td>79.759091</td>\n",
       "      <td>0.363649</td>\n",
       "      <td>0.442086</td>\n",
       "    </tr>\n",
       "    <tr>\n",
       "      <td>395</td>\n",
       "      <td>6</td>\n",
       "      <td>LSTM</td>\n",
       "      <td>False</td>\n",
       "      <td>ADAM,0.0001</td>\n",
       "      <td>32</td>\n",
       "      <td>100</td>\n",
       "      <td>83.860362</td>\n",
       "      <td>79.759091</td>\n",
       "      <td>0.370648</td>\n",
       "      <td>0.444776</td>\n",
       "    </tr>\n",
       "    <tr>\n",
       "      <td>383</td>\n",
       "      <td>4</td>\n",
       "      <td>LSTM</td>\n",
       "      <td>False</td>\n",
       "      <td>ADAM,0.0001</td>\n",
       "      <td>32</td>\n",
       "      <td>50</td>\n",
       "      <td>82.608110</td>\n",
       "      <td>79.750001</td>\n",
       "      <td>0.389494</td>\n",
       "      <td>0.436473</td>\n",
       "    </tr>\n",
       "    <tr>\n",
       "      <td>343</td>\n",
       "      <td>4</td>\n",
       "      <td>LSTM</td>\n",
       "      <td>False</td>\n",
       "      <td>ADAM,0.001</td>\n",
       "      <td>32</td>\n",
       "      <td>50</td>\n",
       "      <td>83.972973</td>\n",
       "      <td>79.668182</td>\n",
       "      <td>0.367238</td>\n",
       "      <td>0.443190</td>\n",
       "    </tr>\n",
       "    <tr>\n",
       "      <td>324</td>\n",
       "      <td>5</td>\n",
       "      <td>LSTM</td>\n",
       "      <td>False</td>\n",
       "      <td>ADAM,0.001</td>\n",
       "      <td>16</td>\n",
       "      <td>50</td>\n",
       "      <td>83.405405</td>\n",
       "      <td>79.631817</td>\n",
       "      <td>0.380832</td>\n",
       "      <td>0.444687</td>\n",
       "    </tr>\n",
       "    <tr>\n",
       "      <td>399</td>\n",
       "      <td>10</td>\n",
       "      <td>LSTM</td>\n",
       "      <td>False</td>\n",
       "      <td>ADAM,0.0001</td>\n",
       "      <td>32</td>\n",
       "      <td>100</td>\n",
       "      <td>84.743243</td>\n",
       "      <td>79.595453</td>\n",
       "      <td>0.347981</td>\n",
       "      <td>0.464799</td>\n",
       "    </tr>\n",
       "    <tr>\n",
       "      <td>389</td>\n",
       "      <td>10</td>\n",
       "      <td>LSTM</td>\n",
       "      <td>False</td>\n",
       "      <td>ADAM,0.0001</td>\n",
       "      <td>32</td>\n",
       "      <td>50</td>\n",
       "      <td>84.837836</td>\n",
       "      <td>79.531819</td>\n",
       "      <td>0.338897</td>\n",
       "      <td>0.455778</td>\n",
       "    </tr>\n",
       "    <tr>\n",
       "      <td>398</td>\n",
       "      <td>9</td>\n",
       "      <td>LSTM</td>\n",
       "      <td>False</td>\n",
       "      <td>ADAM,0.0001</td>\n",
       "      <td>32</td>\n",
       "      <td>100</td>\n",
       "      <td>84.743243</td>\n",
       "      <td>79.504544</td>\n",
       "      <td>0.350645</td>\n",
       "      <td>0.461919</td>\n",
       "    </tr>\n",
       "    <tr>\n",
       "      <td>388</td>\n",
       "      <td>9</td>\n",
       "      <td>LSTM</td>\n",
       "      <td>False</td>\n",
       "      <td>ADAM,0.0001</td>\n",
       "      <td>32</td>\n",
       "      <td>50</td>\n",
       "      <td>84.675676</td>\n",
       "      <td>79.500002</td>\n",
       "      <td>0.344707</td>\n",
       "      <td>0.469771</td>\n",
       "    </tr>\n",
       "    <tr>\n",
       "      <td>336</td>\n",
       "      <td>7</td>\n",
       "      <td>LSTM</td>\n",
       "      <td>False</td>\n",
       "      <td>ADAM,0.001</td>\n",
       "      <td>16</td>\n",
       "      <td>100</td>\n",
       "      <td>85.022521</td>\n",
       "      <td>79.377276</td>\n",
       "      <td>0.347902</td>\n",
       "      <td>0.507244</td>\n",
       "    </tr>\n",
       "    <tr>\n",
       "      <td>344</td>\n",
       "      <td>5</td>\n",
       "      <td>LSTM</td>\n",
       "      <td>False</td>\n",
       "      <td>ADAM,0.001</td>\n",
       "      <td>32</td>\n",
       "      <td>50</td>\n",
       "      <td>86.288291</td>\n",
       "      <td>79.377276</td>\n",
       "      <td>0.324102</td>\n",
       "      <td>0.456317</td>\n",
       "    </tr>\n",
       "    <tr>\n",
       "      <td>397</td>\n",
       "      <td>8</td>\n",
       "      <td>LSTM</td>\n",
       "      <td>False</td>\n",
       "      <td>ADAM,0.0001</td>\n",
       "      <td>32</td>\n",
       "      <td>100</td>\n",
       "      <td>84.441441</td>\n",
       "      <td>79.345453</td>\n",
       "      <td>0.355805</td>\n",
       "      <td>0.453537</td>\n",
       "    </tr>\n",
       "    <tr>\n",
       "      <td>393</td>\n",
       "      <td>4</td>\n",
       "      <td>LSTM</td>\n",
       "      <td>False</td>\n",
       "      <td>ADAM,0.0001</td>\n",
       "      <td>32</td>\n",
       "      <td>100</td>\n",
       "      <td>82.328826</td>\n",
       "      <td>79.331815</td>\n",
       "      <td>0.401160</td>\n",
       "      <td>0.451015</td>\n",
       "    </tr>\n",
       "    <tr>\n",
       "      <td>394</td>\n",
       "      <td>5</td>\n",
       "      <td>LSTM</td>\n",
       "      <td>False</td>\n",
       "      <td>ADAM,0.0001</td>\n",
       "      <td>32</td>\n",
       "      <td>100</td>\n",
       "      <td>83.369368</td>\n",
       "      <td>79.322726</td>\n",
       "      <td>0.381989</td>\n",
       "      <td>0.447723</td>\n",
       "    </tr>\n",
       "    <tr>\n",
       "      <td>342</td>\n",
       "      <td>3</td>\n",
       "      <td>LSTM</td>\n",
       "      <td>False</td>\n",
       "      <td>ADAM,0.001</td>\n",
       "      <td>32</td>\n",
       "      <td>50</td>\n",
       "      <td>81.193691</td>\n",
       "      <td>79.309088</td>\n",
       "      <td>0.421694</td>\n",
       "      <td>0.444474</td>\n",
       "    </tr>\n",
       "    <tr>\n",
       "      <td>323</td>\n",
       "      <td>4</td>\n",
       "      <td>LSTM</td>\n",
       "      <td>False</td>\n",
       "      <td>ADAM,0.001</td>\n",
       "      <td>16</td>\n",
       "      <td>50</td>\n",
       "      <td>81.184685</td>\n",
       "      <td>79.222727</td>\n",
       "      <td>0.422677</td>\n",
       "      <td>0.449722</td>\n",
       "    </tr>\n",
       "    <tr>\n",
       "      <td>198</td>\n",
       "      <td>9</td>\n",
       "      <td>RNN</td>\n",
       "      <td>False</td>\n",
       "      <td>ADAM,0.0001</td>\n",
       "      <td>32</td>\n",
       "      <td>100</td>\n",
       "      <td>85.360360</td>\n",
       "      <td>79.213637</td>\n",
       "      <td>0.361694</td>\n",
       "      <td>0.474466</td>\n",
       "    </tr>\n",
       "    <tr>\n",
       "      <td>369</td>\n",
       "      <td>10</td>\n",
       "      <td>LSTM</td>\n",
       "      <td>False</td>\n",
       "      <td>ADAM,0.0001</td>\n",
       "      <td>16</td>\n",
       "      <td>50</td>\n",
       "      <td>84.747750</td>\n",
       "      <td>79.172724</td>\n",
       "      <td>0.363824</td>\n",
       "      <td>0.476644</td>\n",
       "    </tr>\n",
       "    <tr>\n",
       "      <td>382</td>\n",
       "      <td>3</td>\n",
       "      <td>LSTM</td>\n",
       "      <td>False</td>\n",
       "      <td>ADAM,0.0001</td>\n",
       "      <td>32</td>\n",
       "      <td>50</td>\n",
       "      <td>80.869371</td>\n",
       "      <td>79.159093</td>\n",
       "      <td>0.419173</td>\n",
       "      <td>0.453771</td>\n",
       "    </tr>\n",
       "    <tr>\n",
       "      <td>197</td>\n",
       "      <td>8</td>\n",
       "      <td>RNN</td>\n",
       "      <td>False</td>\n",
       "      <td>ADAM,0.0001</td>\n",
       "      <td>32</td>\n",
       "      <td>100</td>\n",
       "      <td>84.896398</td>\n",
       "      <td>79.122728</td>\n",
       "      <td>0.367926</td>\n",
       "      <td>0.477771</td>\n",
       "    </tr>\n",
       "    <tr>\n",
       "      <td>335</td>\n",
       "      <td>6</td>\n",
       "      <td>LSTM</td>\n",
       "      <td>False</td>\n",
       "      <td>ADAM,0.001</td>\n",
       "      <td>16</td>\n",
       "      <td>100</td>\n",
       "      <td>83.387387</td>\n",
       "      <td>79.068184</td>\n",
       "      <td>0.378423</td>\n",
       "      <td>0.461349</td>\n",
       "    </tr>\n",
       "    <tr>\n",
       "      <td>196</td>\n",
       "      <td>7</td>\n",
       "      <td>RNN</td>\n",
       "      <td>False</td>\n",
       "      <td>ADAM,0.0001</td>\n",
       "      <td>32</td>\n",
       "      <td>100</td>\n",
       "      <td>84.531534</td>\n",
       "      <td>79.031819</td>\n",
       "      <td>0.374745</td>\n",
       "      <td>0.475408</td>\n",
       "    </tr>\n",
       "    <tr>\n",
       "      <td>195</td>\n",
       "      <td>6</td>\n",
       "      <td>RNN</td>\n",
       "      <td>False</td>\n",
       "      <td>ADAM,0.0001</td>\n",
       "      <td>32</td>\n",
       "      <td>100</td>\n",
       "      <td>84.292793</td>\n",
       "      <td>79.022729</td>\n",
       "      <td>0.380129</td>\n",
       "      <td>0.486517</td>\n",
       "    </tr>\n",
       "    <tr>\n",
       "      <td>183</td>\n",
       "      <td>4</td>\n",
       "      <td>RNN</td>\n",
       "      <td>False</td>\n",
       "      <td>ADAM,0.0001</td>\n",
       "      <td>32</td>\n",
       "      <td>50</td>\n",
       "      <td>82.815313</td>\n",
       "      <td>79.009092</td>\n",
       "      <td>0.404866</td>\n",
       "      <td>0.470614</td>\n",
       "    </tr>\n",
       "    <tr>\n",
       "      <td>327</td>\n",
       "      <td>8</td>\n",
       "      <td>LSTM</td>\n",
       "      <td>False</td>\n",
       "      <td>ADAM,0.001</td>\n",
       "      <td>16</td>\n",
       "      <td>50</td>\n",
       "      <td>88.076574</td>\n",
       "      <td>79.004544</td>\n",
       "      <td>0.294990</td>\n",
       "      <td>0.496638</td>\n",
       "    </tr>\n",
       "    <tr>\n",
       "      <td>164</td>\n",
       "      <td>5</td>\n",
       "      <td>RNN</td>\n",
       "      <td>False</td>\n",
       "      <td>ADAM,0.0001</td>\n",
       "      <td>16</td>\n",
       "      <td>50</td>\n",
       "      <td>83.135134</td>\n",
       "      <td>78.995454</td>\n",
       "      <td>0.402445</td>\n",
       "      <td>0.474954</td>\n",
       "    </tr>\n",
       "  </tbody>\n",
       "</table>\n",
       "</div>"
      ],
      "text/plain": [
       "     EPOCHS MODEL  CUSTOM EMBEDDING        OPTIM  OUTPUT_SIZE  BATCH_SIZE  \\\n",
       "386       7  LSTM             False  ADAM,0.0001           32          50   \n",
       "385       6  LSTM             False  ADAM,0.0001           32          50   \n",
       "384       5  LSTM             False  ADAM,0.0001           32          50   \n",
       "387       8  LSTM             False  ADAM,0.0001           32          50   \n",
       "396       7  LSTM             False  ADAM,0.0001           32         100   \n",
       "395       6  LSTM             False  ADAM,0.0001           32         100   \n",
       "383       4  LSTM             False  ADAM,0.0001           32          50   \n",
       "343       4  LSTM             False   ADAM,0.001           32          50   \n",
       "324       5  LSTM             False   ADAM,0.001           16          50   \n",
       "399      10  LSTM             False  ADAM,0.0001           32         100   \n",
       "389      10  LSTM             False  ADAM,0.0001           32          50   \n",
       "398       9  LSTM             False  ADAM,0.0001           32         100   \n",
       "388       9  LSTM             False  ADAM,0.0001           32          50   \n",
       "336       7  LSTM             False   ADAM,0.001           16         100   \n",
       "344       5  LSTM             False   ADAM,0.001           32          50   \n",
       "397       8  LSTM             False  ADAM,0.0001           32         100   \n",
       "393       4  LSTM             False  ADAM,0.0001           32         100   \n",
       "394       5  LSTM             False  ADAM,0.0001           32         100   \n",
       "342       3  LSTM             False   ADAM,0.001           32          50   \n",
       "323       4  LSTM             False   ADAM,0.001           16          50   \n",
       "198       9   RNN             False  ADAM,0.0001           32         100   \n",
       "369      10  LSTM             False  ADAM,0.0001           16          50   \n",
       "382       3  LSTM             False  ADAM,0.0001           32          50   \n",
       "197       8   RNN             False  ADAM,0.0001           32         100   \n",
       "335       6  LSTM             False   ADAM,0.001           16         100   \n",
       "196       7   RNN             False  ADAM,0.0001           32         100   \n",
       "195       6   RNN             False  ADAM,0.0001           32         100   \n",
       "183       4   RNN             False  ADAM,0.0001           32          50   \n",
       "327       8  LSTM             False   ADAM,0.001           16          50   \n",
       "164       5   RNN             False  ADAM,0.0001           16          50   \n",
       "\n",
       "     ACC_TRAIN   ACC_TEST  ERROR_TRAIN  ERROR_TEST  \n",
       "386  83.981985  79.895455     0.358366    0.442491  \n",
       "385  83.837837  79.840910     0.365387    0.450434  \n",
       "384  83.189189  79.836363     0.375791    0.440184  \n",
       "387  84.504503  79.786366     0.350844    0.450028  \n",
       "396  84.252250  79.759091     0.363649    0.442086  \n",
       "395  83.860362  79.759091     0.370648    0.444776  \n",
       "383  82.608110  79.750001     0.389494    0.436473  \n",
       "343  83.972973  79.668182     0.367238    0.443190  \n",
       "324  83.405405  79.631817     0.380832    0.444687  \n",
       "399  84.743243  79.595453     0.347981    0.464799  \n",
       "389  84.837836  79.531819     0.338897    0.455778  \n",
       "398  84.743243  79.504544     0.350645    0.461919  \n",
       "388  84.675676  79.500002     0.344707    0.469771  \n",
       "336  85.022521  79.377276     0.347902    0.507244  \n",
       "344  86.288291  79.377276     0.324102    0.456317  \n",
       "397  84.441441  79.345453     0.355805    0.453537  \n",
       "393  82.328826  79.331815     0.401160    0.451015  \n",
       "394  83.369368  79.322726     0.381989    0.447723  \n",
       "342  81.193691  79.309088     0.421694    0.444474  \n",
       "323  81.184685  79.222727     0.422677    0.449722  \n",
       "198  85.360360  79.213637     0.361694    0.474466  \n",
       "369  84.747750  79.172724     0.363824    0.476644  \n",
       "382  80.869371  79.159093     0.419173    0.453771  \n",
       "197  84.896398  79.122728     0.367926    0.477771  \n",
       "335  83.387387  79.068184     0.378423    0.461349  \n",
       "196  84.531534  79.031819     0.374745    0.475408  \n",
       "195  84.292793  79.022729     0.380129    0.486517  \n",
       "183  82.815313  79.009092     0.404866    0.470614  \n",
       "327  88.076574  79.004544     0.294990    0.496638  \n",
       "164  83.135134  78.995454     0.402445    0.474954  "
      ]
     },
     "execution_count": 86,
     "metadata": {},
     "output_type": "execute_result"
    }
   ],
   "source": [
    "results.sort_values(by=['ACC_TEST'], ascending=False)[:30]"
   ]
  },
  {
   "cell_type": "markdown",
   "metadata": {},
   "source": [
    "####  Embedding representation impact"
   ]
  },
  {
   "cell_type": "code",
   "execution_count": 79,
   "metadata": {},
   "outputs": [
    {
     "data": {
      "text/plain": [
       "<matplotlib.axes._subplots.AxesSubplot at 0x7f4f1d08d950>"
      ]
     },
     "execution_count": 79,
     "metadata": {},
     "output_type": "execute_result"
    },
    {
     "data": {
      "image/png": "[encoded data removed]",
      "text/plain": [
       "<Figure size 720x360 with 1 Axes>"
      ]
     },
     "metadata": {},
     "output_type": "display_data"
    }
   ],
   "source": [
    "sns.set_style(\"whitegrid\", {'axes.grid' : True})\n",
    "fig, ax = plt.subplots(figsize=(10,5))\n",
    "results.groupby(['MODEL','CUSTOM EMBEDDING',]).mean()['ACC_TEST'].unstack().plot.bar(ax=ax)"
   ]
  },
  {
   "cell_type": "code",
   "execution_count": 84,
   "metadata": {},
   "outputs": [
    {
     "data": {
      "text/plain": [
       "<matplotlib.axes._subplots.AxesSubplot at 0x7f4f1cc3d650>"
      ]
     },
     "execution_count": 84,
     "metadata": {},
     "output_type": "execute_result"
    },
    {
     "data": {
      "image/png": "[encoded data removed]",
      "text/plain": [
       "<Figure size 1440x720 with 1 Axes>"
      ]
     },
     "metadata": {},
     "output_type": "display_data"
    }
   ],
   "source": [
    "sns.set_style(\"whitegrid\", {'axes.grid' : True})\n",
    "fig, ax = plt.subplots(figsize=(20,10))\n",
    "results.groupby(['EPOCHS','CUSTOM EMBEDDING',]).mean()['ACC_TEST'].unstack().plot.bar(ax=ax)"
   ]
  },
  {
   "cell_type": "markdown",
   "metadata": {},
   "source": [
    "#### LSTM/RNN cells output size impact"
   ]
  },
  {
   "cell_type": "code",
   "execution_count": 73,
   "metadata": {},
   "outputs": [
    {
     "data": {
      "text/plain": [
       "<matplotlib.axes._subplots.AxesSubplot at 0x7f4ed3fd1510>"
      ]
     },
     "execution_count": 73,
     "metadata": {},
     "output_type": "execute_result"
    },
    {
     "data": {
      "image/png": "[encoded data removed]",
      "text/plain": [
       "<Figure size 720x360 with 1 Axes>"
      ]
     },
     "metadata": {},
     "output_type": "display_data"
    }
   ],
   "source": [
    "sns.set_style(\"whitegrid\", {'axes.grid' : True})\n",
    "fig, ax = plt.subplots(figsize=(10,5))\n",
    "results.groupby(['MODEL','OUTPUT_SIZE',]).mean()['ACC_TEST'].unstack().plot.bar(ax=ax)"
   ]
  },
  {
   "cell_type": "markdown",
   "metadata": {},
   "source": [
    "#### Learning rate impact"
   ]
  },
  {
   "cell_type": "code",
   "execution_count": 74,
   "metadata": {},
   "outputs": [
    {
     "data": {
      "text/plain": [
       "<matplotlib.axes._subplots.AxesSubplot at 0x7f4f1d2bc950>"
      ]
     },
     "execution_count": 74,
     "metadata": {},
     "output_type": "execute_result"
    },
    {
     "data": {
      "image/png": "[encoded data removed]",
      "text/plain": [
       "<Figure size 720x360 with 1 Axes>"
      ]
     },
     "metadata": {},
     "output_type": "display_data"
    }
   ],
   "source": [
    "sns.set_style(\"whitegrid\", {'axes.grid' : True})\n",
    "fig, ax = plt.subplots(figsize=(10,5))\n",
    "results.groupby(['MODEL','OPTIM',]).mean()['ACC_TEST'].unstack().plot.bar(ax=ax)"
   ]
  },
  {
   "cell_type": "markdown",
   "metadata": {},
   "source": [
    "#### Batch size impact"
   ]
  },
  {
   "cell_type": "code",
   "execution_count": 75,
   "metadata": {},
   "outputs": [
    {
     "data": {
      "text/plain": [
       "<matplotlib.axes._subplots.AxesSubplot at 0x7f4f1d1e89d0>"
      ]
     },
     "execution_count": 75,
     "metadata": {},
     "output_type": "execute_result"
    },
    {
     "data": {
      "image/png": "[encoded data removed]",
      "text/plain": [
       "<Figure size 720x360 with 1 Axes>"
      ]
     },
     "metadata": {},
     "output_type": "display_data"
    }
   ],
   "source": [
    "sns.set_style(\"whitegrid\", {'axes.grid' : True})\n",
    "fig, ax = plt.subplots(figsize=(10,5))\n",
    "results.groupby(['MODEL','BATCH_SIZE',]).mean()['ACC_TEST'].unstack().plot.bar(ax=ax)"
   ]
  },
  {
   "cell_type": "markdown",
   "metadata": {},
   "source": [
    "### LSTM/RNN comparison"
   ]
  },
  {
   "cell_type": "code",
   "execution_count": 76,
   "metadata": {},
   "outputs": [
    {
     "data": {
      "text/plain": [
       "<matplotlib.axes._subplots.AxesSubplot at 0x7f4f1d1b73d0>"
      ]
     },
     "execution_count": 76,
     "metadata": {},
     "output_type": "execute_result"
    },
    {
     "data": {
      "image/png": "[encoded data removed]",
      "text/plain": [
       "<Figure size 1440x720 with 1 Axes>"
      ]
     },
     "metadata": {},
     "output_type": "display_data"
    }
   ],
   "source": [
    "sns.set_style(\"whitegrid\", {'axes.grid' : True})\n",
    "fig, ax = plt.subplots(figsize=(20,10))\n",
    "results.groupby(['EPOCHS','MODEL',]).mean()['ACC_TEST'].unstack().plot.bar(ax=ax)"
   ]
  },
  {
   "cell_type": "code",
   "execution_count": 77,
   "metadata": {},
   "outputs": [
    {
     "data": {
      "text/plain": [
       "<matplotlib.axes._subplots.AxesSubplot at 0x7f4f1d279dd0>"
      ]
     },
     "execution_count": 77,
     "metadata": {},
     "output_type": "execute_result"
    },
    {
     "data": {
      "image/png": "[encoded data removed]",
      "text/plain": [
       "<Figure size 1440x720 with 1 Axes>"
      ]
     },
     "metadata": {},
     "output_type": "display_data"
    }
   ],
   "source": [
    "sns.set_style(\"whitegrid\", {'axes.grid' : True})\n",
    "fig, ax = plt.subplots(figsize=(20,10))\n",
    "results.groupby(['EPOCHS','MODEL',]).max()['ACC_TEST'].unstack().plot.bar(ax=ax)"
   ]
  },
  {
   "cell_type": "markdown",
   "metadata": {},
   "source": [
    "## LSTM i RNN training comparison"
   ]
  },
  {
   "cell_type": "code",
   "execution_count": 88,
   "metadata": {},
   "outputs": [
    {
     "data": {
      "application/vnd.jupyter.widget-view+json": {
       "model_id": "adb137f7e6fe4788a2faf8de247b0f37",
       "version_major": 2,
       "version_minor": 0
      },
      "text/plain": [
       "HBox(children=(IntProgress(value=0, max=10), HTML(value='')))"
      ]
     },
     "metadata": {},
     "output_type": "display_data"
    },
    {
     "name": "stdout",
     "output_type": "stream",
     "text": [
      "Epoch 1, Loss: 0.6928767561912537, Accuracy: 51.054054260253906, Test Loss: 0.6926246881484985, Test Accuracy: 51.23181915283203\n",
      "Epoch 2, Loss: 0.6892673373222351, Accuracy: 55.364864349365234, Test Loss: 0.6914845108985901, Test Accuracy: 52.15454864501953\n",
      "Epoch 3, Loss: 0.6793694496154785, Accuracy: 58.19819641113281, Test Loss: 0.6671293377876282, Test Accuracy: 58.95000076293945\n",
      "Epoch 4, Loss: 0.49506309628486633, Accuracy: 76.23873901367188, Test Loss: 0.47234708070755005, Test Accuracy: 78.16818237304688\n",
      "Epoch 5, Loss: 0.4184800684452057, Accuracy: 81.76126098632812, Test Loss: 0.45637744665145874, Test Accuracy: 79.33181762695312\n",
      "Epoch 6, Loss: 0.39462602138519287, Accuracy: 83.20720672607422, Test Loss: 0.45887160301208496, Test Accuracy: 79.33181762695312\n",
      "Epoch 7, Loss: 0.38537728786468506, Accuracy: 83.64864349365234, Test Loss: 0.4676268398761749, Test Accuracy: 79.10909271240234\n",
      "Epoch 8, Loss: 0.3785993754863739, Accuracy: 84.2657699584961, Test Loss: 0.4729941487312317, Test Accuracy: 79.21817779541016\n",
      "Epoch 9, Loss: 0.3730619251728058, Accuracy: 84.40540313720703, Test Loss: 0.4726063907146454, Test Accuracy: 79.14545440673828\n",
      "Epoch 10, Loss: 0.3678613007068634, Accuracy: 84.98648071289062, Test Loss: 0.4665132462978363, Test Accuracy: 79.23181915283203\n",
      "\n"
     ]
    }
   ],
   "source": [
    "rnn_model_best=RNNModel(batch_size=100,output_size=32,custom_embedding_layer=False)\n",
    "rnn_model_best.fit(x_train,y_train,x_test,y_test,optimizer=tf.keras.optimizers.Adam(learning_rate=0.0001))"
   ]
  },
  {
   "cell_type": "code",
   "execution_count": 89,
   "metadata": {},
   "outputs": [
    {
     "data": {
      "application/vnd.jupyter.widget-view+json": {
       "model_id": "07811c6194284ee5b36db4574ff6f6c6",
       "version_major": 2,
       "version_minor": 0
      },
      "text/plain": [
       "HBox(children=(IntProgress(value=0, max=10), HTML(value='')))"
      ]
     },
     "metadata": {},
     "output_type": "display_data"
    },
    {
     "name": "stdout",
     "output_type": "stream",
     "text": [
      "Epoch 1, Loss: 0.6921240091323853, Accuracy: 53.0405387878418, Test Loss: 0.6911011338233948, Test Accuracy: 52.63182067871094\n",
      "Epoch 2, Loss: 0.652494490146637, Accuracy: 60.39639663696289, Test Loss: 0.5156437158584595, Test Accuracy: 74.8045425415039\n",
      "Epoch 3, Loss: 0.4426667094230652, Accuracy: 79.590087890625, Test Loss: 0.43594855070114136, Test Accuracy: 79.53182220458984\n",
      "Epoch 4, Loss: 0.3940862715244293, Accuracy: 82.13063049316406, Test Loss: 0.43440020084381104, Test Accuracy: 79.79545593261719\n",
      "Epoch 5, Loss: 0.37776097655296326, Accuracy: 83.13964080810547, Test Loss: 0.4346427917480469, Test Accuracy: 79.88636779785156\n",
      "Epoch 6, Loss: 0.36827027797698975, Accuracy: 83.4549560546875, Test Loss: 0.4468860626220703, Test Accuracy: 79.76818084716797\n",
      "Epoch 7, Loss: 0.36189699172973633, Accuracy: 83.84684753417969, Test Loss: 0.4435410797595978, Test Accuracy: 79.83636474609375\n",
      "Epoch 8, Loss: 0.357021689414978, Accuracy: 84.20720672607422, Test Loss: 0.44031885266304016, Test Accuracy: 79.66363525390625\n",
      "Epoch 9, Loss: 0.349063515663147, Accuracy: 84.42342376708984, Test Loss: 0.4499019980430603, Test Accuracy: 79.50909423828125\n",
      "Epoch 10, Loss: 0.3453768789768219, Accuracy: 84.33332824707031, Test Loss: 0.4619842767715454, Test Accuracy: 79.15909576416016\n",
      "\n"
     ]
    }
   ],
   "source": [
    "lstm_model_best=LSTMModel(batch_size=50,output_size=32,custom_embedding_layer=False)\n",
    "lstm_model_best.fit(x_train,y_train,x_test,y_test,optimizer=tf.keras.optimizers.Adam(learning_rate=0.0001))"
   ]
  },
  {
   "cell_type": "code",
   "execution_count": 90,
   "metadata": {},
   "outputs": [],
   "source": [
    "def visualize_learning(model):\n",
    "    sns.set()\n",
    "    fig, (error_subplot, accuracy_subplot) = plt.subplots(1, 2,figsize=(15,5))\n",
    "    epochs=[i+1 for i in range(len(model.train_learning_accuracy))]\n",
    "    \n",
    "    train_errors,test_errors=model.train_learning_losses,model.test_learning_losses\n",
    "    train_accuracy,test_accuracy=model.train_learning_accuracy,model.test_learning_accuracy\n",
    "\n",
    "    accuracy_subplot.plot(epochs,train_accuracy,linestyle='--', marker='o', color='green', label='Traing set accuracy')\n",
    "    accuracy_subplot.plot(epochs,test_accuracy,linestyle='--', marker='o', color='blue', label='Test set accuracy')\n",
    "    accuracy_subplot.set_title(\"Model accuracy change per epoch\")\n",
    "    accuracy_subplot.set_xlabel('Epochs')\n",
    "    accuracy_subplot.set_ylabel('Loss')\n",
    "    accuracy_subplot.legend(loc=\"upper left\")\n",
    "    \n",
    "    error_subplot.plot(epochs,train_errors,linestyle='--', marker='o', color='red',label='Traing set loss')\n",
    "    error_subplot.plot(epochs,test_errors,linestyle='--', marker='o', color='orange',label='Test set loss')\n",
    "    error_subplot.set_title(\"Model loss change per epoch\")\n",
    "    error_subplot.set_xlabel('Epochs')\n",
    "    error_subplot.set_ylabel('Loss')\n",
    "    error_subplot.legend(loc=\"upper right\")"
   ]
  },
  {
   "cell_type": "code",
   "execution_count": 91,
   "metadata": {},
   "outputs": [
    {
     "data": {
      "image/png": "[encoded data removed]",
      "text/plain": [
       "<Figure size 1080x360 with 2 Axes>"
      ]
     },
     "metadata": {},
     "output_type": "display_data"
    }
   ],
   "source": [
    "visualize_learning(lstm_model_best)"
   ]
  },
  {
   "cell_type": "code",
   "execution_count": 92,
   "metadata": {},
   "outputs": [
    {
     "data": {
      "image/png": "[encoded data removed]",
      "text/plain": [
       "<Figure size 1080x360 with 2 Axes>"
      ]
     },
     "metadata": {},
     "output_type": "display_data"
    }
   ],
   "source": [
    "visualize_learning(rnn_model_best)"
   ]
  },
  {
   "cell_type": "markdown",
   "metadata": {},
   "source": [
    "W komórce LSTM uczenie jest bardziej stabilne."
   ]
  },
  {
   "cell_type": "code",
   "execution_count": 94,
   "metadata": {},
   "outputs": [
    {
     "name": "stdout",
     "output_type": "stream",
     "text": [
      "[[19  4]\n",
      " [ 4 23]]\n",
      "[[40  8]\n",
      " [10 42]]\n"
     ]
    },
    {
     "data": {
      "text/plain": [
       "<matplotlib.axes._subplots.AxesSubplot at 0x7f4f1c4eefd0>"
      ]
     },
     "execution_count": 94,
     "metadata": {},
     "output_type": "execute_result"
    },
    {
     "data": {
      "image/png": "[encoded data removed]",
      "text/plain": [
       "<Figure size 864x864 with 2 Axes>"
      ]
     },
     "metadata": {},
     "output_type": "display_data"
    },
    {
     "data": {
      "image/png": "[encoded data removed]",
      "text/plain": [
       "<Figure size 864x864 with 2 Axes>"
      ]
     },
     "metadata": {},
     "output_type": "display_data"
    }
   ],
   "source": [
    "predicted_labels_lstm=lstm_model_best.predict(x_test[0:50])\n",
    "predicted_labels_rnn=rnn_model_best.predict(x_test[0:100])\n",
    "ORDERED_CLASS_NAMES=['0','1']\n",
    "def visualize_confusion_matrix(y_true, y_pred, classes,\n",
    "                          title=None):\n",
    "\n",
    "    sns.set_style(\"whitegrid\", {'axes.grid' : False})\n",
    "    cm = confusion_matrix(y_true, y_pred)\n",
    "    print(cm)\n",
    "\n",
    "    fig, ax = plt.subplots(figsize=(12,12))\n",
    "    im = ax.imshow(cm, interpolation='nearest', cmap=plt.cm.Blues)\n",
    "    ax.figure.colorbar(im, ax=ax)\n",
    "    \n",
    "    #setting labels\n",
    "    ax.set(xticks=np.arange(cm.shape[1]),\n",
    "           yticks=np.arange(cm.shape[0]),\n",
    "\n",
    "           xticklabels=classes, yticklabels=classes,\n",
    "           title=title,\n",
    "           ylabel='True label',\n",
    "           xlabel='Predicted label')\n",
    "\n",
    "    # label rotation\n",
    "    plt.setp(ax.get_xticklabels(), rotation=45, ha=\"right\",\n",
    "             rotation_mode=\"anchor\")\n",
    "\n",
    "    # text annotations\n",
    "    fmt = 'd'\n",
    "    thresh = cm.max() / 2.\n",
    "    for i in range(cm.shape[0]):\n",
    "        for j in range(cm.shape[1]):\n",
    "            ax.text(j, i, format(cm[i, j], fmt),\n",
    "                    ha=\"center\", va=\"center\",\n",
    "                    color=\"white\" if cm[i, j] > thresh else \"black\")\n",
    "    #bug workarond\n",
    "    ax.set_ylim(len(classes)-0.5, -0.5)\n",
    "    return ax\n",
    "\n",
    "visualize_confusion_matrix(y_test[0:50], predicted_labels_lstm, classes=ORDERED_CLASS_NAMES,\n",
    "                      title='Confusion matrix')\n",
    "visualize_confusion_matrix(y_test[0:100], predicted_labels_rnn, classes=ORDERED_CLASS_NAMES,\n",
    "                      title='Confusion matrix')"
   ]
  }
 ],
 "metadata": {
  "kernelspec": {
   "display_name": "Python 3",
   "language": "python",
   "name": "python3"
  },
  "language_info": {
   "codemirror_mode": {
    "name": "ipython",
    "version": 3
   },
   "file_extension": ".py",
   "mimetype": "text/x-python",
   "name": "python",
   "nbconvert_exporter": "python",
   "pygments_lexer": "ipython3",
   "version": "3.7.4"
  }
 },
 "nbformat": 4,
 "nbformat_minor": 2
}
